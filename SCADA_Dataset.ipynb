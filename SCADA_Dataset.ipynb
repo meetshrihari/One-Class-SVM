{
 "cells": [
  {
   "cell_type": "code",
   "execution_count": 6,
   "metadata": {},
   "outputs": [],
   "source": [
    "\n",
    "import numpy as np\n",
    "import matplotlib.pyplot as plt\n",
    "import pandas as pd\n",
    "import seaborn as sns\n",
    "\n",
    "from sklearn.model_selection import train_test_split"
   ]
  },
  {
   "cell_type": "code",
   "execution_count": 7,
   "metadata": {},
   "outputs": [
    {
     "name": "stdout",
     "output_type": "stream",
     "text": [
      "CPU times: user 3.98 s, sys: 221 ms, total: 4.2 s\n",
      "Wall time: 4.2 s\n"
     ]
    }
   ],
   "source": [
    "%%time\n",
    "feature = pd.read_csv('SCADA/features_T.csv')\n",
    "cond = pd.read_csv('SCADA/condition_T.csv')\n",
    "labels =pd.read_csv('SCADA/labels_T.csv')"
   ]
  },
  {
   "cell_type": "code",
   "execution_count": 8,
   "metadata": {
    "scrolled": true
   },
   "outputs": [
    {
     "data": {
      "text/html": [
       "<div>\n",
       "<style scoped>\n",
       "    .dataframe tbody tr th:only-of-type {\n",
       "        vertical-align: middle;\n",
       "    }\n",
       "\n",
       "    .dataframe tbody tr th {\n",
       "        vertical-align: top;\n",
       "    }\n",
       "\n",
       "    .dataframe thead th {\n",
       "        text-align: right;\n",
       "    }\n",
       "</style>\n",
       "<table border=\"1\" class=\"dataframe\">\n",
       "  <thead>\n",
       "    <tr style=\"text-align: right;\">\n",
       "      <th></th>\n",
       "      <th>Unnamed: 0</th>\n",
       "      <th>Rotordrehzahl</th>\n",
       "      <th>Leistung</th>\n",
       "      <th>Generator_Umdr</th>\n",
       "      <th>T_Aussen</th>\n",
       "      <th>T_Gen1</th>\n",
       "      <th>T_Gen2</th>\n",
       "      <th>T_Getriebe</th>\n",
       "      <th>T_Getriebelager</th>\n",
       "      <th>T_Wellenlager</th>\n",
       "      <th>Drehmoment</th>\n",
       "      <th>Triebstrangbeschl</th>\n",
       "      <th>T_Generatorkuehlluft</th>\n",
       "      <th>T_Getriebelager_B</th>\n",
       "    </tr>\n",
       "  </thead>\n",
       "  <tbody>\n",
       "    <tr>\n",
       "      <th>count</th>\n",
       "      <td>1.860383e+06</td>\n",
       "      <td>1.860383e+06</td>\n",
       "      <td>1.860383e+06</td>\n",
       "      <td>1.860383e+06</td>\n",
       "      <td>1.860383e+06</td>\n",
       "      <td>1.860383e+06</td>\n",
       "      <td>1.860383e+06</td>\n",
       "      <td>1.860383e+06</td>\n",
       "      <td>1.860383e+06</td>\n",
       "      <td>1.860383e+06</td>\n",
       "      <td>1.860383e+06</td>\n",
       "      <td>1.860383e+06</td>\n",
       "      <td>1.860383e+06</td>\n",
       "      <td>1.860383e+06</td>\n",
       "    </tr>\n",
       "    <tr>\n",
       "      <th>mean</th>\n",
       "      <td>9.301910e+05</td>\n",
       "      <td>-1.504455e-11</td>\n",
       "      <td>-4.303942e-12</td>\n",
       "      <td>-2.431584e-13</td>\n",
       "      <td>-8.707261e-12</td>\n",
       "      <td>-7.306313e-13</td>\n",
       "      <td>3.746379e-12</td>\n",
       "      <td>5.459483e-15</td>\n",
       "      <td>4.313273e-12</td>\n",
       "      <td>4.313273e-12</td>\n",
       "      <td>-7.582819e-12</td>\n",
       "      <td>2.400482e-13</td>\n",
       "      <td>4.243789e-11</td>\n",
       "      <td>-4.355783e-11</td>\n",
       "    </tr>\n",
       "    <tr>\n",
       "      <th>std</th>\n",
       "      <td>5.370465e+05</td>\n",
       "      <td>1.000000e+00</td>\n",
       "      <td>1.000000e+00</td>\n",
       "      <td>1.000000e+00</td>\n",
       "      <td>1.000000e+00</td>\n",
       "      <td>1.000000e+00</td>\n",
       "      <td>1.000000e+00</td>\n",
       "      <td>1.000000e+00</td>\n",
       "      <td>1.000000e+00</td>\n",
       "      <td>1.000000e+00</td>\n",
       "      <td>1.000000e+00</td>\n",
       "      <td>1.000000e+00</td>\n",
       "      <td>1.000000e+00</td>\n",
       "      <td>1.000000e+00</td>\n",
       "    </tr>\n",
       "    <tr>\n",
       "      <th>min</th>\n",
       "      <td>0.000000e+00</td>\n",
       "      <td>-1.685663e+00</td>\n",
       "      <td>-7.872065e-01</td>\n",
       "      <td>-1.689376e+00</td>\n",
       "      <td>-3.525746e+00</td>\n",
       "      <td>-3.613832e+00</td>\n",
       "      <td>-3.594264e+00</td>\n",
       "      <td>-4.969349e+00</td>\n",
       "      <td>-4.097301e+00</td>\n",
       "      <td>-4.097301e+00</td>\n",
       "      <td>-8.995342e-01</td>\n",
       "      <td>-1.062660e+00</td>\n",
       "      <td>-4.457798e+00</td>\n",
       "      <td>-1.581948e+00</td>\n",
       "    </tr>\n",
       "    <tr>\n",
       "      <th>25%</th>\n",
       "      <td>4.650955e+05</td>\n",
       "      <td>-9.167623e-01</td>\n",
       "      <td>-6.799460e-01</td>\n",
       "      <td>-9.179087e-01</td>\n",
       "      <td>-7.170903e-01</td>\n",
       "      <td>-4.680339e-01</td>\n",
       "      <td>-4.490256e-01</td>\n",
       "      <td>-3.185496e-01</td>\n",
       "      <td>-7.507164e-01</td>\n",
       "      <td>-7.507164e-01</td>\n",
       "      <td>-8.223838e-01</td>\n",
       "      <td>-6.915980e-01</td>\n",
       "      <td>-5.371061e-01</td>\n",
       "      <td>-1.536458e+00</td>\n",
       "    </tr>\n",
       "    <tr>\n",
       "      <th>50%</th>\n",
       "      <td>9.301910e+05</td>\n",
       "      <td>3.698993e-01</td>\n",
       "      <td>-3.581646e-01</td>\n",
       "      <td>3.725409e-01</td>\n",
       "      <td>-4.836268e-02</td>\n",
       "      <td>4.463793e-02</td>\n",
       "      <td>3.147546e-02</td>\n",
       "      <td>3.538551e-01</td>\n",
       "      <td>8.258304e-02</td>\n",
       "      <td>8.258304e-02</td>\n",
       "      <td>-3.150937e-01</td>\n",
       "      <td>-3.141386e-01</td>\n",
       "      <td>1.825154e-02</td>\n",
       "      <td>7.380879e-01</td>\n",
       "    </tr>\n",
       "    <tr>\n",
       "      <th>75%</th>\n",
       "      <td>1.395286e+06</td>\n",
       "      <td>5.109504e-01</td>\n",
       "      <td>2.087836e-01</td>\n",
       "      <td>5.107441e-01</td>\n",
       "      <td>7.541104e-01</td>\n",
       "      <td>5.126273e-01</td>\n",
       "      <td>5.004075e-01</td>\n",
       "      <td>4.659226e-01</td>\n",
       "      <td>7.552465e-01</td>\n",
       "      <td>7.552465e-01</td>\n",
       "      <td>4.532394e-01</td>\n",
       "      <td>4.109247e-01</td>\n",
       "      <td>6.145419e-01</td>\n",
       "      <td>7.380879e-01</td>\n",
       "    </tr>\n",
       "    <tr>\n",
       "      <th>max</th>\n",
       "      <td>1.860382e+06</td>\n",
       "      <td>1.780411e+00</td>\n",
       "      <td>5.219380e+00</td>\n",
       "      <td>1.756119e+00</td>\n",
       "      <td>4.900221e+00</td>\n",
       "      <td>6.028945e+00</td>\n",
       "      <td>6.153815e+00</td>\n",
       "      <td>3.875014e+00</td>\n",
       "      <td>3.432514e+00</td>\n",
       "      <td>3.432514e+00</td>\n",
       "      <td>5.878073e+00</td>\n",
       "      <td>1.598113e+01</td>\n",
       "      <td>5.494387e+00</td>\n",
       "      <td>9.655425e-01</td>\n",
       "    </tr>\n",
       "  </tbody>\n",
       "</table>\n",
       "</div>"
      ],
      "text/plain": [
       "         Unnamed: 0  Rotordrehzahl      Leistung  Generator_Umdr  \\\n",
       "count  1.860383e+06   1.860383e+06  1.860383e+06    1.860383e+06   \n",
       "mean   9.301910e+05  -1.504455e-11 -4.303942e-12   -2.431584e-13   \n",
       "std    5.370465e+05   1.000000e+00  1.000000e+00    1.000000e+00   \n",
       "min    0.000000e+00  -1.685663e+00 -7.872065e-01   -1.689376e+00   \n",
       "25%    4.650955e+05  -9.167623e-01 -6.799460e-01   -9.179087e-01   \n",
       "50%    9.301910e+05   3.698993e-01 -3.581646e-01    3.725409e-01   \n",
       "75%    1.395286e+06   5.109504e-01  2.087836e-01    5.107441e-01   \n",
       "max    1.860382e+06   1.780411e+00  5.219380e+00    1.756119e+00   \n",
       "\n",
       "           T_Aussen        T_Gen1        T_Gen2    T_Getriebe  \\\n",
       "count  1.860383e+06  1.860383e+06  1.860383e+06  1.860383e+06   \n",
       "mean  -8.707261e-12 -7.306313e-13  3.746379e-12  5.459483e-15   \n",
       "std    1.000000e+00  1.000000e+00  1.000000e+00  1.000000e+00   \n",
       "min   -3.525746e+00 -3.613832e+00 -3.594264e+00 -4.969349e+00   \n",
       "25%   -7.170903e-01 -4.680339e-01 -4.490256e-01 -3.185496e-01   \n",
       "50%   -4.836268e-02  4.463793e-02  3.147546e-02  3.538551e-01   \n",
       "75%    7.541104e-01  5.126273e-01  5.004075e-01  4.659226e-01   \n",
       "max    4.900221e+00  6.028945e+00  6.153815e+00  3.875014e+00   \n",
       "\n",
       "       T_Getriebelager  T_Wellenlager    Drehmoment  Triebstrangbeschl  \\\n",
       "count     1.860383e+06   1.860383e+06  1.860383e+06       1.860383e+06   \n",
       "mean      4.313273e-12   4.313273e-12 -7.582819e-12       2.400482e-13   \n",
       "std       1.000000e+00   1.000000e+00  1.000000e+00       1.000000e+00   \n",
       "min      -4.097301e+00  -4.097301e+00 -8.995342e-01      -1.062660e+00   \n",
       "25%      -7.507164e-01  -7.507164e-01 -8.223838e-01      -6.915980e-01   \n",
       "50%       8.258304e-02   8.258304e-02 -3.150937e-01      -3.141386e-01   \n",
       "75%       7.552465e-01   7.552465e-01  4.532394e-01       4.109247e-01   \n",
       "max       3.432514e+00   3.432514e+00  5.878073e+00       1.598113e+01   \n",
       "\n",
       "       T_Generatorkuehlluft  T_Getriebelager_B  \n",
       "count          1.860383e+06       1.860383e+06  \n",
       "mean           4.243789e-11      -4.355783e-11  \n",
       "std            1.000000e+00       1.000000e+00  \n",
       "min           -4.457798e+00      -1.581948e+00  \n",
       "25%           -5.371061e-01      -1.536458e+00  \n",
       "50%            1.825154e-02       7.380879e-01  \n",
       "75%            6.145419e-01       7.380879e-01  \n",
       "max            5.494387e+00       9.655425e-01  "
      ]
     },
     "execution_count": 8,
     "metadata": {},
     "output_type": "execute_result"
    }
   ],
   "source": [
    "feature.describe()"
   ]
  },
  {
   "cell_type": "code",
   "execution_count": 9,
   "metadata": {},
   "outputs": [
    {
     "data": {
      "text/html": [
       "<div>\n",
       "<style scoped>\n",
       "    .dataframe tbody tr th:only-of-type {\n",
       "        vertical-align: middle;\n",
       "    }\n",
       "\n",
       "    .dataframe tbody tr th {\n",
       "        vertical-align: top;\n",
       "    }\n",
       "\n",
       "    .dataframe thead th {\n",
       "        text-align: right;\n",
       "    }\n",
       "</style>\n",
       "<table border=\"1\" class=\"dataframe\">\n",
       "  <thead>\n",
       "    <tr style=\"text-align: right;\">\n",
       "      <th></th>\n",
       "      <th>Unnamed: 0</th>\n",
       "      <th>Fehler_051</th>\n",
       "      <th>Fehler_052</th>\n",
       "      <th>Fehler_071</th>\n",
       "      <th>Fehler_072</th>\n",
       "      <th>Fehler_077</th>\n",
       "      <th>Fehler_089</th>\n",
       "      <th>Fehler_098</th>\n",
       "      <th>Fehler_425</th>\n",
       "    </tr>\n",
       "  </thead>\n",
       "  <tbody>\n",
       "    <tr>\n",
       "      <th>count</th>\n",
       "      <td>1.860383e+06</td>\n",
       "      <td>1.860383e+06</td>\n",
       "      <td>1.860383e+06</td>\n",
       "      <td>1.860383e+06</td>\n",
       "      <td>1.860383e+06</td>\n",
       "      <td>1.860383e+06</td>\n",
       "      <td>1.860383e+06</td>\n",
       "      <td>1.860383e+06</td>\n",
       "      <td>1.860383e+06</td>\n",
       "    </tr>\n",
       "    <tr>\n",
       "      <th>mean</th>\n",
       "      <td>9.301910e+05</td>\n",
       "      <td>6.987808e-06</td>\n",
       "      <td>2.590864e-04</td>\n",
       "      <td>1.720076e-05</td>\n",
       "      <td>2.150095e-06</td>\n",
       "      <td>1.118049e-04</td>\n",
       "      <td>1.773828e-05</td>\n",
       "      <td>2.687619e-06</td>\n",
       "      <td>5.375237e-07</td>\n",
       "    </tr>\n",
       "    <tr>\n",
       "      <th>std</th>\n",
       "      <td>5.370465e+05</td>\n",
       "      <td>2.643438e-03</td>\n",
       "      <td>1.609408e-02</td>\n",
       "      <td>4.147345e-03</td>\n",
       "      <td>1.466319e-03</td>\n",
       "      <td>1.057320e-02</td>\n",
       "      <td>4.211648e-03</td>\n",
       "      <td>1.639394e-03</td>\n",
       "      <td>7.331601e-04</td>\n",
       "    </tr>\n",
       "    <tr>\n",
       "      <th>min</th>\n",
       "      <td>0.000000e+00</td>\n",
       "      <td>0.000000e+00</td>\n",
       "      <td>0.000000e+00</td>\n",
       "      <td>0.000000e+00</td>\n",
       "      <td>0.000000e+00</td>\n",
       "      <td>0.000000e+00</td>\n",
       "      <td>0.000000e+00</td>\n",
       "      <td>0.000000e+00</td>\n",
       "      <td>0.000000e+00</td>\n",
       "    </tr>\n",
       "    <tr>\n",
       "      <th>25%</th>\n",
       "      <td>4.650955e+05</td>\n",
       "      <td>0.000000e+00</td>\n",
       "      <td>0.000000e+00</td>\n",
       "      <td>0.000000e+00</td>\n",
       "      <td>0.000000e+00</td>\n",
       "      <td>0.000000e+00</td>\n",
       "      <td>0.000000e+00</td>\n",
       "      <td>0.000000e+00</td>\n",
       "      <td>0.000000e+00</td>\n",
       "    </tr>\n",
       "    <tr>\n",
       "      <th>50%</th>\n",
       "      <td>9.301910e+05</td>\n",
       "      <td>0.000000e+00</td>\n",
       "      <td>0.000000e+00</td>\n",
       "      <td>0.000000e+00</td>\n",
       "      <td>0.000000e+00</td>\n",
       "      <td>0.000000e+00</td>\n",
       "      <td>0.000000e+00</td>\n",
       "      <td>0.000000e+00</td>\n",
       "      <td>0.000000e+00</td>\n",
       "    </tr>\n",
       "    <tr>\n",
       "      <th>75%</th>\n",
       "      <td>1.395286e+06</td>\n",
       "      <td>0.000000e+00</td>\n",
       "      <td>0.000000e+00</td>\n",
       "      <td>0.000000e+00</td>\n",
       "      <td>0.000000e+00</td>\n",
       "      <td>0.000000e+00</td>\n",
       "      <td>0.000000e+00</td>\n",
       "      <td>0.000000e+00</td>\n",
       "      <td>0.000000e+00</td>\n",
       "    </tr>\n",
       "    <tr>\n",
       "      <th>max</th>\n",
       "      <td>1.860382e+06</td>\n",
       "      <td>1.000000e+00</td>\n",
       "      <td>1.000000e+00</td>\n",
       "      <td>1.000000e+00</td>\n",
       "      <td>1.000000e+00</td>\n",
       "      <td>1.000000e+00</td>\n",
       "      <td>1.000000e+00</td>\n",
       "      <td>1.000000e+00</td>\n",
       "      <td>1.000000e+00</td>\n",
       "    </tr>\n",
       "  </tbody>\n",
       "</table>\n",
       "</div>"
      ],
      "text/plain": [
       "         Unnamed: 0    Fehler_051    Fehler_052    Fehler_071    Fehler_072  \\\n",
       "count  1.860383e+06  1.860383e+06  1.860383e+06  1.860383e+06  1.860383e+06   \n",
       "mean   9.301910e+05  6.987808e-06  2.590864e-04  1.720076e-05  2.150095e-06   \n",
       "std    5.370465e+05  2.643438e-03  1.609408e-02  4.147345e-03  1.466319e-03   \n",
       "min    0.000000e+00  0.000000e+00  0.000000e+00  0.000000e+00  0.000000e+00   \n",
       "25%    4.650955e+05  0.000000e+00  0.000000e+00  0.000000e+00  0.000000e+00   \n",
       "50%    9.301910e+05  0.000000e+00  0.000000e+00  0.000000e+00  0.000000e+00   \n",
       "75%    1.395286e+06  0.000000e+00  0.000000e+00  0.000000e+00  0.000000e+00   \n",
       "max    1.860382e+06  1.000000e+00  1.000000e+00  1.000000e+00  1.000000e+00   \n",
       "\n",
       "         Fehler_077    Fehler_089    Fehler_098    Fehler_425  \n",
       "count  1.860383e+06  1.860383e+06  1.860383e+06  1.860383e+06  \n",
       "mean   1.118049e-04  1.773828e-05  2.687619e-06  5.375237e-07  \n",
       "std    1.057320e-02  4.211648e-03  1.639394e-03  7.331601e-04  \n",
       "min    0.000000e+00  0.000000e+00  0.000000e+00  0.000000e+00  \n",
       "25%    0.000000e+00  0.000000e+00  0.000000e+00  0.000000e+00  \n",
       "50%    0.000000e+00  0.000000e+00  0.000000e+00  0.000000e+00  \n",
       "75%    0.000000e+00  0.000000e+00  0.000000e+00  0.000000e+00  \n",
       "max    1.000000e+00  1.000000e+00  1.000000e+00  1.000000e+00  "
      ]
     },
     "execution_count": 9,
     "metadata": {},
     "output_type": "execute_result"
    }
   ],
   "source": [
    "labels.describe()"
   ]
  },
  {
   "cell_type": "code",
   "execution_count": 10,
   "metadata": {},
   "outputs": [
    {
     "name": "stdout",
     "output_type": "stream",
     "text": [
      "0.000000000000000000e+00    244\n",
      "dtype: int64\n",
      "Unnamed: 0      1\n",
      "Fehler_051     13\n",
      "Fehler_052    482\n",
      "Fehler_071     32\n",
      "Fehler_072      4\n",
      "Fehler_077    208\n",
      "Fehler_089     33\n",
      "Fehler_098      5\n",
      "Fehler_425      1\n",
      "dtype: int64\n"
     ]
    }
   ],
   "source": [
    "print(cond[cond==1].count())\n",
    "print(labels[labels==1].count())\n",
    "\n",
    "cond_pos = cond"
   ]
  },
  {
   "cell_type": "code",
   "execution_count": 12,
   "metadata": {},
   "outputs": [
    {
     "data": {
      "text/html": [
       "<div>\n",
       "<style scoped>\n",
       "    .dataframe tbody tr th:only-of-type {\n",
       "        vertical-align: middle;\n",
       "    }\n",
       "\n",
       "    .dataframe tbody tr th {\n",
       "        vertical-align: top;\n",
       "    }\n",
       "\n",
       "    .dataframe thead th {\n",
       "        text-align: right;\n",
       "    }\n",
       "</style>\n",
       "<table border=\"1\" class=\"dataframe\">\n",
       "  <thead>\n",
       "    <tr style=\"text-align: right;\">\n",
       "      <th></th>\n",
       "      <th>Unnamed: 0</th>\n",
       "      <th>Rotordrehzahl</th>\n",
       "      <th>Leistung</th>\n",
       "      <th>Generator_Umdr</th>\n",
       "      <th>T_Aussen</th>\n",
       "      <th>T_Gen1</th>\n",
       "      <th>T_Gen2</th>\n",
       "      <th>T_Getriebe</th>\n",
       "      <th>T_Getriebelager</th>\n",
       "      <th>T_Wellenlager</th>\n",
       "      <th>Drehmoment</th>\n",
       "      <th>Triebstrangbeschl</th>\n",
       "      <th>T_Generatorkuehlluft</th>\n",
       "      <th>T_Getriebelager_B</th>\n",
       "    </tr>\n",
       "  </thead>\n",
       "  <tbody>\n",
       "    <tr>\n",
       "      <th>0</th>\n",
       "      <td>0</td>\n",
       "      <td>0.388821</td>\n",
       "      <td>-0.262396</td>\n",
       "      <td>0.372827</td>\n",
       "      <td>-0.182108</td>\n",
       "      <td>0.349576</td>\n",
       "      <td>0.333813</td>\n",
       "      <td>0.129720</td>\n",
       "      <td>0.253259</td>\n",
       "      <td>0.253259</td>\n",
       "      <td>-0.193027</td>\n",
       "      <td>-0.458352</td>\n",
       "      <td>0.314737</td>\n",
       "      <td>0.738088</td>\n",
       "    </tr>\n",
       "    <tr>\n",
       "      <th>1</th>\n",
       "      <td>1</td>\n",
       "      <td>0.390541</td>\n",
       "      <td>0.055554</td>\n",
       "      <td>0.372999</td>\n",
       "      <td>-0.243631</td>\n",
       "      <td>0.597289</td>\n",
       "      <td>0.568279</td>\n",
       "      <td>0.159978</td>\n",
       "      <td>0.253259</td>\n",
       "      <td>0.253259</td>\n",
       "      <td>0.294183</td>\n",
       "      <td>-0.358655</td>\n",
       "      <td>0.482893</td>\n",
       "      <td>0.738088</td>\n",
       "    </tr>\n",
       "    <tr>\n",
       "      <th>2</th>\n",
       "      <td>2</td>\n",
       "      <td>0.393981</td>\n",
       "      <td>0.101523</td>\n",
       "      <td>0.377180</td>\n",
       "      <td>-0.454949</td>\n",
       "      <td>0.575339</td>\n",
       "      <td>0.559795</td>\n",
       "      <td>0.241788</td>\n",
       "      <td>0.253259</td>\n",
       "      <td>0.253259</td>\n",
       "      <td>0.359708</td>\n",
       "      <td>-0.445023</td>\n",
       "      <td>0.293718</td>\n",
       "      <td>0.738088</td>\n",
       "    </tr>\n",
       "    <tr>\n",
       "      <th>3</th>\n",
       "      <td>3</td>\n",
       "      <td>0.414623</td>\n",
       "      <td>0.155153</td>\n",
       "      <td>0.397264</td>\n",
       "      <td>-0.583345</td>\n",
       "      <td>0.477352</td>\n",
       "      <td>0.467243</td>\n",
       "      <td>0.241788</td>\n",
       "      <td>0.253259</td>\n",
       "      <td>0.253259</td>\n",
       "      <td>0.425233</td>\n",
       "      <td>-0.330399</td>\n",
       "      <td>0.149900</td>\n",
       "      <td>0.738088</td>\n",
       "    </tr>\n",
       "    <tr>\n",
       "      <th>4</th>\n",
       "      <td>4</td>\n",
       "      <td>0.462787</td>\n",
       "      <td>0.247091</td>\n",
       "      <td>0.446921</td>\n",
       "      <td>-0.583345</td>\n",
       "      <td>0.380932</td>\n",
       "      <td>0.375462</td>\n",
       "      <td>0.309028</td>\n",
       "      <td>0.253259</td>\n",
       "      <td>0.253259</td>\n",
       "      <td>0.536731</td>\n",
       "      <td>-0.418366</td>\n",
       "      <td>0.025996</td>\n",
       "      <td>0.738088</td>\n",
       "    </tr>\n",
       "  </tbody>\n",
       "</table>\n",
       "</div>"
      ],
      "text/plain": [
       "   Unnamed: 0  Rotordrehzahl  Leistung  Generator_Umdr  T_Aussen    T_Gen1  \\\n",
       "0           0       0.388821 -0.262396        0.372827 -0.182108  0.349576   \n",
       "1           1       0.390541  0.055554        0.372999 -0.243631  0.597289   \n",
       "2           2       0.393981  0.101523        0.377180 -0.454949  0.575339   \n",
       "3           3       0.414623  0.155153        0.397264 -0.583345  0.477352   \n",
       "4           4       0.462787  0.247091        0.446921 -0.583345  0.380932   \n",
       "\n",
       "     T_Gen2  T_Getriebe  T_Getriebelager  T_Wellenlager  Drehmoment  \\\n",
       "0  0.333813    0.129720         0.253259       0.253259   -0.193027   \n",
       "1  0.568279    0.159978         0.253259       0.253259    0.294183   \n",
       "2  0.559795    0.241788         0.253259       0.253259    0.359708   \n",
       "3  0.467243    0.241788         0.253259       0.253259    0.425233   \n",
       "4  0.375462    0.309028         0.253259       0.253259    0.536731   \n",
       "\n",
       "   Triebstrangbeschl  T_Generatorkuehlluft  T_Getriebelager_B  \n",
       "0          -0.458352              0.314737           0.738088  \n",
       "1          -0.358655              0.482893           0.738088  \n",
       "2          -0.445023              0.293718           0.738088  \n",
       "3          -0.330399              0.149900           0.738088  \n",
       "4          -0.418366              0.025996           0.738088  "
      ]
     },
     "execution_count": 12,
     "metadata": {},
     "output_type": "execute_result"
    }
   ],
   "source": [
    "feature.head()"
   ]
  },
  {
   "cell_type": "code",
   "execution_count": 13,
   "metadata": {},
   "outputs": [
    {
     "name": "stdout",
     "output_type": "stream",
     "text": [
      "0          True\n",
      "1          True\n",
      "2          True\n",
      "3          True\n",
      "4          True\n",
      "           ... \n",
      "1860378    True\n",
      "1860379    True\n",
      "1860380    True\n",
      "1860381    True\n",
      "1860382    True\n",
      "Name: Fehler_052, Length: 1860383, dtype: bool\n"
     ]
    }
   ],
   "source": [
    "print(labels['Fehler_052']==0)"
   ]
  },
  {
   "cell_type": "code",
   "execution_count": 14,
   "metadata": {},
   "outputs": [
    {
     "name": "stdout",
     "output_type": "stream",
     "text": [
      "['Unnamed: 0' 'Rotordrehzahl' 'Leistung' 'Generator_Umdr' 'T_Aussen'\n",
      " 'T_Gen1' 'T_Gen2' 'T_Getriebe' 'T_Getriebelager' 'T_Wellenlager'\n",
      " 'Drehmoment' 'Triebstrangbeschl' 'T_Generatorkuehlluft'\n",
      " 'T_Getriebelager_B']\n",
      "<class 'pandas.core.frame.DataFrame'>\n",
      "RangeIndex: 1860383 entries, 0 to 1860382\n",
      "Data columns (total 14 columns):\n",
      " #   Column                Dtype  \n",
      "---  ------                -----  \n",
      " 0   Unnamed: 0            int64  \n",
      " 1   Rotordrehzahl         float64\n",
      " 2   Leistung              float64\n",
      " 3   Generator_Umdr        float64\n",
      " 4   T_Aussen              float64\n",
      " 5   T_Gen1                float64\n",
      " 6   T_Gen2                float64\n",
      " 7   T_Getriebe            float64\n",
      " 8   T_Getriebelager       float64\n",
      " 9   T_Wellenlager         float64\n",
      " 10  Drehmoment            float64\n",
      " 11  Triebstrangbeschl     float64\n",
      " 12  T_Generatorkuehlluft  float64\n",
      " 13  T_Getriebelager_B     float64\n",
      "dtypes: float64(13), int64(1)\n",
      "memory usage: 198.7 MB\n"
     ]
    }
   ],
   "source": [
    "print(feature.columns.values)\n",
    "feature.describe()\n",
    "feature.info()"
   ]
  },
  {
   "cell_type": "code",
   "execution_count": 15,
   "metadata": {},
   "outputs": [
    {
     "name": "stdout",
     "output_type": "stream",
     "text": [
      "1860383 930191\n"
     ]
    }
   ],
   "source": [
    "le = len(feature)\n",
    "\n",
    "divide = int(le/2)\n",
    "print(le, divide)"
   ]
  },
  {
   "cell_type": "code",
   "execution_count": 16,
   "metadata": {},
   "outputs": [],
   "source": [
    "# %%time\n",
    "# split_data_1 = [feature.loc[i,:] for i in range(divide)]"
   ]
  },
  {
   "cell_type": "code",
   "execution_count": 17,
   "metadata": {},
   "outputs": [],
   "source": [
    "def split(df, headSize) :\n",
    "    hd = df.head(headSize)\n",
    "    tl = df.tail(len(df)-headSize)\n",
    "    return hd, tl\n",
    "\n",
    "feature1, feature2 = split(feature, divide)"
   ]
  },
  {
   "cell_type": "code",
   "execution_count": 18,
   "metadata": {},
   "outputs": [
    {
     "name": "stdout",
     "output_type": "stream",
     "text": [
      "   Unnamed: 0  Rotordrehzahl  Leistung  Generator_Umdr  T_Aussen    T_Gen1  \\\n",
      "0           0       0.388821 -0.262396        0.372827 -0.182108  0.349576   \n",
      "1           1       0.390541  0.055554        0.372999 -0.243631  0.597289   \n",
      "2           2       0.393981  0.101523        0.377180 -0.454949  0.575339   \n",
      "3           3       0.414623  0.155153        0.397264 -0.583345  0.477352   \n",
      "4           4       0.462787  0.247091        0.446921 -0.583345  0.380932   \n",
      "\n",
      "     T_Gen2  T_Getriebe  T_Getriebelager  T_Wellenlager  Drehmoment  \\\n",
      "0  0.333813    0.129720         0.253259       0.253259   -0.193027   \n",
      "1  0.568279    0.159978         0.253259       0.253259    0.294183   \n",
      "2  0.559795    0.241788         0.253259       0.253259    0.359708   \n",
      "3  0.467243    0.241788         0.253259       0.253259    0.425233   \n",
      "4  0.375462    0.309028         0.253259       0.253259    0.536731   \n",
      "\n",
      "   Triebstrangbeschl  T_Generatorkuehlluft  T_Getriebelager_B  \n",
      "0          -0.458352              0.314737           0.738088  \n",
      "1          -0.358655              0.482893           0.738088  \n",
      "2          -0.445023              0.293718           0.738088  \n",
      "3          -0.330399              0.149900           0.738088  \n",
      "4          -0.418366              0.025996           0.738088  \n"
     ]
    },
    {
     "data": {
      "text/plain": [
       "930191"
      ]
     },
     "execution_count": 18,
     "metadata": {},
     "output_type": "execute_result"
    }
   ],
   "source": [
    "print(feature1.head())\n",
    "len(feature1)"
   ]
  },
  {
   "cell_type": "code",
   "execution_count": 19,
   "metadata": {},
   "outputs": [
    {
     "data": {
      "text/plain": [
       "0         False\n",
       "1         False\n",
       "2         False\n",
       "3         False\n",
       "4         False\n",
       "          ...  \n",
       "930186    False\n",
       "930187    False\n",
       "930188    False\n",
       "930189    False\n",
       "930190    False\n",
       "Name: Rotordrehzahl, Length: 930191, dtype: bool"
      ]
     },
     "execution_count": 19,
     "metadata": {},
     "output_type": "execute_result"
    }
   ],
   "source": [
    "feature1['Rotordrehzahl']>0.5"
   ]
  },
  {
   "cell_type": "code",
   "execution_count": 20,
   "metadata": {},
   "outputs": [
    {
     "data": {
      "text/plain": [
       "<matplotlib.axes._subplots.AxesSubplot at 0x7fe2a0f80e90>"
      ]
     },
     "execution_count": 20,
     "metadata": {},
     "output_type": "execute_result"
    },
    {
     "data": {
      "image/png": "[encoded data removed]",
      "text/plain": [
       "<Figure size 432x288 with 1 Axes>"
      ]
     },
     "metadata": {
      "needs_background": "light"
     },
     "output_type": "display_data"
    }
   ],
   "source": [
    "cond[cond.columns.values[0]].hist(bins=100)"
   ]
  },
  {
   "cell_type": "code",
   "execution_count": 21,
   "metadata": {},
   "outputs": [
    {
     "data": {
      "text/plain": [
       "<matplotlib.axes._subplots.AxesSubplot at 0x7fe2d9be6b90>"
      ]
     },
     "execution_count": 21,
     "metadata": {},
     "output_type": "execute_result"
    },
    {
     "data": {
      "image/png": "[encoded data removed]",
      "text/plain": [
       "<Figure size 432x288 with 1 Axes>"
      ]
     },
     "metadata": {
      "needs_background": "light"
     },
     "output_type": "display_data"
    }
   ],
   "source": [
    "feature[feature.columns.values[13]].hist(bins=100)"
   ]
  },
  {
   "cell_type": "code",
   "execution_count": 22,
   "metadata": {},
   "outputs": [
    {
     "data": {
      "image/png": "[encoded data removed]",
      "text/plain": [
       "<Figure size 720x720 with 14 Axes>"
      ]
     },
     "metadata": {
      "needs_background": "light"
     },
     "output_type": "display_data"
    }
   ],
   "source": [
    "f,a = plt.subplots(7,2, figsize=(10,10))\n",
    "a = a.ravel()\n",
    "for idx,ax in enumerate(a):\n",
    "    if idx >= 13:\n",
    "        break\n",
    "    #print(idx, ax)\n",
    "    ax.hist(feature[feature.columns.values[idx+1]], bins=30)\n",
    "    \n",
    "    ax.set_title(feature.columns.values[idx+1])\n",
    "    #ax.set_xlabel(xaxes[idx])\n",
    "    #ax.set_ylabel(yaxes[idx])\n",
    "    #plt.tight_layout()"
   ]
  },
  {
   "cell_type": "code",
   "execution_count": 23,
   "metadata": {},
   "outputs": [
    {
     "data": {
      "text/plain": [
       "<matplotlib.collections.PathCollection at 0x7fe2182645d0>"
      ]
     },
     "execution_count": 23,
     "metadata": {},
     "output_type": "execute_result"
    },
    {
     "data": {
      "image/png": "[encoded data removed]",
      "text/plain": [
       "<Figure size 432x288 with 1 Axes>"
      ]
     },
     "metadata": {
      "needs_background": "light"
     },
     "output_type": "display_data"
    }
   ],
   "source": [
    "a,b=feature[feature.columns.values[0]],feature[feature.columns.values[1]]\n",
    "plt.scatter(a,b)"
   ]
  },
  {
   "cell_type": "code",
   "execution_count": null,
   "metadata": {},
   "outputs": [],
   "source": []
  },
  {
   "cell_type": "code",
   "execution_count": null,
   "metadata": {},
   "outputs": [],
   "source": []
  },
  {
   "cell_type": "code",
   "execution_count": null,
   "metadata": {},
   "outputs": [],
   "source": []
  }
 ],
 "metadata": {
  "kernelspec": {
   "display_name": "Python 3",
   "language": "python",
   "name": "python3"
  },
  "language_info": {
   "codemirror_mode": {
    "name": "ipython",
    "version": 3
   },
   "file_extension": ".py",
   "mimetype": "text/x-python",
   "name": "python",
   "nbconvert_exporter": "python",
   "pygments_lexer": "ipython3",
   "version": "3.7.6"
  }
 },
 "nbformat": 4,
 "nbformat_minor": 4
}
